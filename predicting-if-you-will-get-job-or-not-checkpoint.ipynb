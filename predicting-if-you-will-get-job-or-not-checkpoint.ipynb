{
 "cells": [
  {
   "cell_type": "markdown",
   "metadata": {},
   "source": [
    "## Contents of the notebook\n",
    "\n",
    "[Raghav Rastogi](https://www.kaggle.com/raghavrastogi75)\n",
    "\n",
    "- [1 - Data Import](#1)\n",
    "- [2 - Basic Analysis](#2)\n",
    "- [3 - Exploratory Data Analysis](#3)\n",
    "- [4 - Prediction](#4)\n",
    "- [5 - Explanation](#5)\n",
    "- [6 - Conclusion](#6)"
   ]
  },
  {
   "cell_type": "markdown",
   "metadata": {},
   "source": [
    "### I have referred the book 'Hands-on MAchine Learning with scikit-Learn, Keras, and Tensorflow' by Aurélien Géron and applied on this dataset. I highly recommend it if you are a beginner. If you have a question or feedback, do not hesitate to write and if you find this kernal helpful, please do not forget to **UPVOTE** 🙂"
   ]
  },
  {
   "cell_type": "code",
   "execution_count": 1,
   "metadata": {
    "_cell_guid": "b1076dfc-b9ad-4769-8c92-a6c4dae69d19",
    "_uuid": "8f2839f25d086af736a60e9eeb907d3b93b6e0e5"
   },
   "outputs": [
    {
     "name": "stdout",
     "output_type": "stream",
     "text": [
      "/kaggle/input/factors-affecting-campus-placement/Placement_Data_Full_Class.csv\n"
     ]
    }
   ],
   "source": [
    "# This Python 3 environment comes with many helpful analytics libraries installed\n",
    "# It is defined by the kaggle/python Docker image: https://github.com/kaggle/docker-python\n",
    "# For example, here's several helpful packages to load\n",
    "\n",
    "import numpy as np # linear algebra\n",
    "import pandas as pd # data processing, CSV file I/O (e.g. pd.read_csv)\n",
    "import matplotlib.pyplot as plt\n",
    "\n",
    "# Input data files are available in the read-only \"../input/\" directory\n",
    "# For example, running this (by clicking run or pressing Shift+Enter) will list all files under the input directory\n",
    "\n",
    "import os\n",
    "for dirname, _, filenames in os.walk('/kaggle/input'):\n",
    "    for filename in filenames:\n",
    "        print(os.path.join(dirname, filename))\n",
    "\n",
    "# You can write up to 5GB to the current directory (/kaggle/working/) that gets preserved as output when you create a version using \"Save & Run All\" \n",
    "# You can also write temporary files to /kaggle/temp/, but they won't be saved outside of the current session"
   ]
  },
  {
   "cell_type": "markdown",
   "metadata": {},
   "source": [
    "## Data import <a id=\"1\"></a> <br>"
   ]
  },
  {
   "cell_type": "code",
   "execution_count": 2,
   "metadata": {
    "_cell_guid": "79c7e3d0-c299-4dcb-8224-4455121ee9b0",
    "_uuid": "d629ff2d2480ee46fbb7e2d37f6b5fab8052498a"
   },
   "outputs": [],
   "source": [
    "place = pd.read_csv('/kaggle/input/factors-affecting-campus-placement/Placement_Data_Full_Class.csv')"
   ]
  },
  {
   "cell_type": "markdown",
   "metadata": {},
   "source": [
    "## Basic Analysis <a id=\"2\"></a> <br>\n",
    "\n",
    "Let's have a look at the Null values and the overall look at the data"
   ]
  },
  {
   "cell_type": "code",
   "execution_count": 3,
   "metadata": {},
   "outputs": [
    {
     "name": "stdout",
     "output_type": "stream",
     "text": [
      "(215, 15)\n",
      "sl_no             False\n",
      "gender            False\n",
      "ssc_p             False\n",
      "ssc_b             False\n",
      "hsc_p             False\n",
      "hsc_b             False\n",
      "hsc_s             False\n",
      "degree_p          False\n",
      "degree_t          False\n",
      "workex            False\n",
      "etest_p           False\n",
      "specialisation    False\n",
      "mba_p             False\n",
      "status            False\n",
      "salary             True\n",
      "dtype: bool\n"
     ]
    },
    {
     "data": {
      "text/html": [
       "<div>\n",
       "<style scoped>\n",
       "    .dataframe tbody tr th:only-of-type {\n",
       "        vertical-align: middle;\n",
       "    }\n",
       "\n",
       "    .dataframe tbody tr th {\n",
       "        vertical-align: top;\n",
       "    }\n",
       "\n",
       "    .dataframe thead th {\n",
       "        text-align: right;\n",
       "    }\n",
       "</style>\n",
       "<table border=\"1\" class=\"dataframe\">\n",
       "  <thead>\n",
       "    <tr style=\"text-align: right;\">\n",
       "      <th></th>\n",
       "      <th>sl_no</th>\n",
       "      <th>gender</th>\n",
       "      <th>ssc_p</th>\n",
       "      <th>ssc_b</th>\n",
       "      <th>hsc_p</th>\n",
       "      <th>hsc_b</th>\n",
       "      <th>hsc_s</th>\n",
       "      <th>degree_p</th>\n",
       "      <th>degree_t</th>\n",
       "      <th>workex</th>\n",
       "      <th>etest_p</th>\n",
       "      <th>specialisation</th>\n",
       "      <th>mba_p</th>\n",
       "      <th>status</th>\n",
       "      <th>salary</th>\n",
       "    </tr>\n",
       "  </thead>\n",
       "  <tbody>\n",
       "    <tr>\n",
       "      <th>0</th>\n",
       "      <td>1</td>\n",
       "      <td>M</td>\n",
       "      <td>67.00</td>\n",
       "      <td>Others</td>\n",
       "      <td>91.00</td>\n",
       "      <td>Others</td>\n",
       "      <td>Commerce</td>\n",
       "      <td>58.00</td>\n",
       "      <td>Sci&amp;Tech</td>\n",
       "      <td>No</td>\n",
       "      <td>55.0</td>\n",
       "      <td>Mkt&amp;HR</td>\n",
       "      <td>58.80</td>\n",
       "      <td>Placed</td>\n",
       "      <td>270000.0</td>\n",
       "    </tr>\n",
       "    <tr>\n",
       "      <th>1</th>\n",
       "      <td>2</td>\n",
       "      <td>M</td>\n",
       "      <td>79.33</td>\n",
       "      <td>Central</td>\n",
       "      <td>78.33</td>\n",
       "      <td>Others</td>\n",
       "      <td>Science</td>\n",
       "      <td>77.48</td>\n",
       "      <td>Sci&amp;Tech</td>\n",
       "      <td>Yes</td>\n",
       "      <td>86.5</td>\n",
       "      <td>Mkt&amp;Fin</td>\n",
       "      <td>66.28</td>\n",
       "      <td>Placed</td>\n",
       "      <td>200000.0</td>\n",
       "    </tr>\n",
       "    <tr>\n",
       "      <th>2</th>\n",
       "      <td>3</td>\n",
       "      <td>M</td>\n",
       "      <td>65.00</td>\n",
       "      <td>Central</td>\n",
       "      <td>68.00</td>\n",
       "      <td>Central</td>\n",
       "      <td>Arts</td>\n",
       "      <td>64.00</td>\n",
       "      <td>Comm&amp;Mgmt</td>\n",
       "      <td>No</td>\n",
       "      <td>75.0</td>\n",
       "      <td>Mkt&amp;Fin</td>\n",
       "      <td>57.80</td>\n",
       "      <td>Placed</td>\n",
       "      <td>250000.0</td>\n",
       "    </tr>\n",
       "    <tr>\n",
       "      <th>3</th>\n",
       "      <td>4</td>\n",
       "      <td>M</td>\n",
       "      <td>56.00</td>\n",
       "      <td>Central</td>\n",
       "      <td>52.00</td>\n",
       "      <td>Central</td>\n",
       "      <td>Science</td>\n",
       "      <td>52.00</td>\n",
       "      <td>Sci&amp;Tech</td>\n",
       "      <td>No</td>\n",
       "      <td>66.0</td>\n",
       "      <td>Mkt&amp;HR</td>\n",
       "      <td>59.43</td>\n",
       "      <td>Not Placed</td>\n",
       "      <td>NaN</td>\n",
       "    </tr>\n",
       "    <tr>\n",
       "      <th>4</th>\n",
       "      <td>5</td>\n",
       "      <td>M</td>\n",
       "      <td>85.80</td>\n",
       "      <td>Central</td>\n",
       "      <td>73.60</td>\n",
       "      <td>Central</td>\n",
       "      <td>Commerce</td>\n",
       "      <td>73.30</td>\n",
       "      <td>Comm&amp;Mgmt</td>\n",
       "      <td>No</td>\n",
       "      <td>96.8</td>\n",
       "      <td>Mkt&amp;Fin</td>\n",
       "      <td>55.50</td>\n",
       "      <td>Placed</td>\n",
       "      <td>425000.0</td>\n",
       "    </tr>\n",
       "  </tbody>\n",
       "</table>\n",
       "</div>"
      ],
      "text/plain": [
       "   sl_no gender  ssc_p    ssc_b  hsc_p    hsc_b     hsc_s  degree_p  \\\n",
       "0      1      M  67.00   Others  91.00   Others  Commerce     58.00   \n",
       "1      2      M  79.33  Central  78.33   Others   Science     77.48   \n",
       "2      3      M  65.00  Central  68.00  Central      Arts     64.00   \n",
       "3      4      M  56.00  Central  52.00  Central   Science     52.00   \n",
       "4      5      M  85.80  Central  73.60  Central  Commerce     73.30   \n",
       "\n",
       "    degree_t workex  etest_p specialisation  mba_p      status    salary  \n",
       "0   Sci&Tech     No     55.0         Mkt&HR  58.80      Placed  270000.0  \n",
       "1   Sci&Tech    Yes     86.5        Mkt&Fin  66.28      Placed  200000.0  \n",
       "2  Comm&Mgmt     No     75.0        Mkt&Fin  57.80      Placed  250000.0  \n",
       "3   Sci&Tech     No     66.0         Mkt&HR  59.43  Not Placed       NaN  \n",
       "4  Comm&Mgmt     No     96.8        Mkt&Fin  55.50      Placed  425000.0  "
      ]
     },
     "execution_count": 3,
     "metadata": {},
     "output_type": "execute_result"
    }
   ],
   "source": [
    "print(place.shape)\n",
    "place.head(20)\n",
    "print(place.isna().any())\n",
    "#place = place.set_index('sl_no')\n",
    "place.head()"
   ]
  },
  {
   "cell_type": "markdown",
   "metadata": {},
   "source": [
    "## Exploratory Data Analysis <a id=\"3\"></a> <br>\n",
    "\n",
    "Looking at the numerical values of the data set"
   ]
  },
  {
   "cell_type": "code",
   "execution_count": 4,
   "metadata": {},
   "outputs": [
    {
     "name": "stdout",
     "output_type": "stream",
     "text": [
      "            sl_no       ssc_p       hsc_p    degree_p     etest_p       mba_p  \\\n",
      "count  215.000000  215.000000  215.000000  215.000000  215.000000  215.000000   \n",
      "mean   108.000000   67.303395   66.333163   66.370186   72.100558   62.278186   \n",
      "std     62.209324   10.827205   10.897509    7.358743   13.275956    5.833385   \n",
      "min      1.000000   40.890000   37.000000   50.000000   50.000000   51.210000   \n",
      "25%     54.500000   60.600000   60.900000   61.000000   60.000000   57.945000   \n",
      "50%    108.000000   67.000000   65.000000   66.000000   71.000000   62.000000   \n",
      "75%    161.500000   75.700000   73.000000   72.000000   83.500000   66.255000   \n",
      "max    215.000000   89.400000   97.700000   91.000000   98.000000   77.890000   \n",
      "\n",
      "              salary  \n",
      "count     148.000000  \n",
      "mean   288655.405405  \n",
      "std     93457.452420  \n",
      "min    200000.000000  \n",
      "25%    240000.000000  \n",
      "50%    265000.000000  \n",
      "75%    300000.000000  \n",
      "max    940000.000000  \n"
     ]
    }
   ],
   "source": [
    "print(place.describe())"
   ]
  },
  {
   "cell_type": "markdown",
   "metadata": {},
   "source": [
    "Let's have a visualisation of different aspects of the dataset to get an idea of it and also get an intuition of the important parameters with respect to target variable 'Status'"
   ]
  },
  {
   "cell_type": "code",
   "execution_count": 5,
   "metadata": {},
   "outputs": [
    {
     "data": {
      "image/png": "[encoded data removed]",
      "text/plain": [
       "<Figure size 360x360 with 1 Axes>"
      ]
     },
     "metadata": {
      "needs_background": "light"
     },
     "output_type": "display_data"
    }
   ],
   "source": [
    "pv1 = place.pivot_table(index = 'gender', columns = 'status',values = 'ssc_p' )\n",
    "\n",
    "x = np.arange(len(pv1.index))  # the label locations\n",
    "width = 0.35  # the width of the bars\n",
    "\n",
    "fig, ax = plt.subplots(figsize = (5,5))\n",
    "rects1 = ax.bar(x - width/2, pv1['Not Placed'] , width, label='Not Placed')\n",
    "rects2 = ax.bar(x + width/2, pv1['Placed'] , width, label='Placed')\n",
    "\n",
    "ax.spines[\"top\"].set_color(\"None\")\n",
    "ax.spines[\"right\"].set_color(\"None\")\n",
    "ax.set_ylabel('Scores')\n",
    "ax.set_title('Average Senior secondary percentage by Gender')\n",
    "ax.set_xticks(x)\n",
    "ax.set_ylim(0,100)\n",
    "ax.set_xticklabels(pv1.index)\n",
    "ax.legend()\n",
    "plt.show()\n"
   ]
  },
  {
   "cell_type": "markdown",
   "metadata": {},
   "source": [
    "Conclusion : We get a clear picture that senior secondary percentage is higher for students that got placed"
   ]
  },
  {
   "cell_type": "code",
   "execution_count": 6,
   "metadata": {},
   "outputs": [
    {
     "data": {
      "image/png": "[encoded data removed]",
      "text/plain": [
       "<Figure size 360x360 with 1 Axes>"
      ]
     },
     "metadata": {
      "needs_background": "light"
     },
     "output_type": "display_data"
    }
   ],
   "source": [
    "pv2 = place.pivot_table(index = 'gender', columns = 'status',values = 'etest_p' )\n",
    "\n",
    "x = np.arange(len(pv2.index))  # the label locations\n",
    "width = 0.35  # the width of the bars\n",
    "\n",
    "fig, ax = plt.subplots(figsize = (5,5))\n",
    "rects1 = ax.bar(x - width/2, pv2['Not Placed'] , width, label='Not Placed')\n",
    "rects2 = ax.bar(x + width/2, pv2['Placed'] , width, label='Placed')\n",
    "\n",
    "ax.spines[\"top\"].set_color(\"None\")\n",
    "ax.spines[\"right\"].set_color(\"None\")\n",
    "ax.set_ylabel('Scores')\n",
    "ax.set_title('Average Employability test scores by Gender')\n",
    "ax.set_xticks(x)\n",
    "ax.set_ylim(0,100)\n",
    "ax.set_xticklabels(pv1.index)\n",
    "ax.legend()\n",
    "plt.show()"
   ]
  },
  {
   "cell_type": "markdown",
   "metadata": {},
   "source": [
    "Surprisingly not much clear difference in terms of placement."
   ]
  },
  {
   "cell_type": "code",
   "execution_count": 7,
   "metadata": {},
   "outputs": [
    {
     "data": {
      "image/png": "[encoded data removed]",
      "text/plain": [
       "<Figure size 360x360 with 1 Axes>"
      ]
     },
     "metadata": {
      "needs_background": "light"
     },
     "output_type": "display_data"
    }
   ],
   "source": [
    "pv3 = place.pivot_table(index = 'gender', columns = 'status',values = 'mba_p' )\n",
    "\n",
    "x = np.arange(len(pv3.index))  # the label locations\n",
    "width = 0.35  # the width of the bars\n",
    "\n",
    "fig, ax = plt.subplots(figsize = (5,5))\n",
    "rects1 = ax.bar(x - width/2, pv3['Not Placed'] , width, label='Not Placed')\n",
    "rects2 = ax.bar(x + width/2, pv3['Placed'] , width, label='Placed')\n",
    "\n",
    "ax.spines[\"top\"].set_color(\"None\")\n",
    "ax.spines[\"right\"].set_color(\"None\")\n",
    "ax.set_ylabel('Scores')\n",
    "ax.set_title('Average MBA percentage by Gender')\n",
    "ax.set_xticks(x)\n",
    "ax.set_ylim(0,100)\n",
    "ax.set_xticklabels(pv1.index)\n",
    "ax.legend()\n",
    "plt.show()"
   ]
  },
  {
   "cell_type": "markdown",
   "metadata": {},
   "source": [
    "Not much difference of scores here as well."
   ]
  },
  {
   "cell_type": "code",
   "execution_count": 8,
   "metadata": {},
   "outputs": [
    {
     "name": "stdout",
     "output_type": "stream",
     "text": [
      "status     Not Placed  Placed\n",
      "degree_t                     \n",
      "Comm&Mgmt          43     102\n",
      "Others              6       5\n",
      "Sci&Tech           18      41\n"
     ]
    },
    {
     "data": {
      "image/png": "[encoded data removed]",
      "text/plain": [
       "<Figure size 360x360 with 1 Axes>"
      ]
     },
     "metadata": {
      "needs_background": "light"
     },
     "output_type": "display_data"
    }
   ],
   "source": [
    "pv4 = place.pivot_table(index = 'degree_t', columns = 'status', values = 'gender', aggfunc = 'count')\n",
    "print(pv4)\n",
    "x = np.arange(len(pv4.index))  # the label locations\n",
    "width = 0.35  # the width of the bars\n",
    "\n",
    "fig, ax = plt.subplots(figsize = (5,5))\n",
    "rects1 = ax.bar(x - width/2, pv4['Not Placed'] , width, label='Not Placed')\n",
    "rects2 = ax.bar(x + width/2, pv4['Placed'] , width, label='Placed')\n",
    "\n",
    "ax.spines[\"top\"].set_color(\"None\")\n",
    "ax.spines[\"right\"].set_color(\"None\")\n",
    "ax.set_ylabel('Count')\n",
    "ax.set_title('Count of placement status of students by degree')\n",
    "ax.set_xticks(x)\n",
    "ax.set_ylim(0,110)\n",
    "ax.set_xticklabels(pv4.index)\n",
    "ax.legend()\n",
    "plt.show()"
   ]
  },
  {
   "cell_type": "markdown",
   "metadata": {},
   "source": [
    "We see that students with Commerce and Management degree have more placements although the placements percentage is more for Science & technology"
   ]
  },
  {
   "cell_type": "code",
   "execution_count": 9,
   "metadata": {},
   "outputs": [
    {
     "data": {
      "text/html": [
       "<div>\n",
       "<style scoped>\n",
       "    .dataframe tbody tr th:only-of-type {\n",
       "        vertical-align: middle;\n",
       "    }\n",
       "\n",
       "    .dataframe tbody tr th {\n",
       "        vertical-align: top;\n",
       "    }\n",
       "\n",
       "    .dataframe thead th {\n",
       "        text-align: right;\n",
       "    }\n",
       "</style>\n",
       "<table border=\"1\" class=\"dataframe\">\n",
       "  <thead>\n",
       "    <tr style=\"text-align: right;\">\n",
       "      <th>status</th>\n",
       "      <th>Not Placed</th>\n",
       "      <th>Placed</th>\n",
       "    </tr>\n",
       "    <tr>\n",
       "      <th>specialisation</th>\n",
       "      <th></th>\n",
       "      <th></th>\n",
       "    </tr>\n",
       "  </thead>\n",
       "  <tbody>\n",
       "    <tr>\n",
       "      <th>Mkt&amp;Fin</th>\n",
       "      <td>25</td>\n",
       "      <td>95</td>\n",
       "    </tr>\n",
       "    <tr>\n",
       "      <th>Mkt&amp;HR</th>\n",
       "      <td>42</td>\n",
       "      <td>53</td>\n",
       "    </tr>\n",
       "  </tbody>\n",
       "</table>\n",
       "</div>"
      ],
      "text/plain": [
       "status          Not Placed  Placed\n",
       "specialisation                    \n",
       "Mkt&Fin                 25      95\n",
       "Mkt&HR                  42      53"
      ]
     },
     "execution_count": 9,
     "metadata": {},
     "output_type": "execute_result"
    }
   ],
   "source": [
    "pv5 = place.pivot_table(index = 'specialisation', columns = 'status', values = 'gender', aggfunc = 'count')\n",
    "pv5"
   ]
  },
  {
   "cell_type": "markdown",
   "metadata": {},
   "source": [
    "In terms of 'specialization' students got placed much more in 'Market and Finance'."
   ]
  },
  {
   "cell_type": "markdown",
   "metadata": {},
   "source": [
    "## Prediction <a id=\"4\"></a> <br>\n",
    "\n",
    "Importing all libraries and creating the test and train dataset. Also separating the numerical and the categorical attributes to apply different data processing techniques.\n"
   ]
  },
  {
   "cell_type": "code",
   "execution_count": 10,
   "metadata": {},
   "outputs": [],
   "source": [
    "from sklearn.preprocessing import StandardScaler\n",
    "from sklearn.preprocessing import OneHotEncoder\n",
    "from sklearn.tree import DecisionTreeClassifier\n",
    "from sklearn.pipeline import Pipeline\n",
    "from sklearn.model_selection import GridSearchCV\n",
    "from sklearn.model_selection import train_test_split\n",
    "from sklearn.model_selection import StratifiedShuffleSplit\n",
    "from sklearn.ensemble import RandomForestClassifier\n",
    "\n",
    "place_new = place.drop('salary',axis = 1).reset_index()\n",
    "place_new = place_new.replace(['Placed','Not Placed'],[1,0])\n",
    "# print(place_new,'place_new')\n",
    "place_cat = place_new[['gender','ssc_b','hsc_b','hsc_s','degree_t','workex','specialisation']]\n",
    "place_num = place_new[['ssc_p','hsc_p','degree_p','etest_p','mba_p']]\n",
    "\n",
    "X = place_new.drop(['status'],axis = 1).reset_index().drop(['sl_no'],axis = 1)\n",
    "y = place_new.iloc[:,-1]\n"
   ]
  },
  {
   "cell_type": "markdown",
   "metadata": {},
   "source": [
    "Using Pipeline and ColumnTransfer I have combined all the data processing and prediction algorithms for both numerical and categorical data. "
   ]
  },
  {
   "cell_type": "code",
   "execution_count": 11,
   "metadata": {},
   "outputs": [
    {
     "name": "stdout",
     "output_type": "stream",
     "text": [
      "[[10  3]\n",
      " [ 1 29]]\n",
      "model score: 0.906\n"
     ]
    }
   ],
   "source": [
    "from sklearn.compose import ColumnTransformer\n",
    "\n",
    "num_attribs = list(place_num)\n",
    "cat_attribs = list(place_cat)\n",
    "# print(num_attribs,\"***num_Attribs***\")\n",
    "# print(cat_attribs,\"***cat_attribs***\")\n",
    "num_transformer = Pipeline(steps = [('scaler', StandardScaler())])\n",
    "\n",
    "cat_transformer = Pipeline(steps = [('onehot',OneHotEncoder(handle_unknown='ignore'))])\n",
    "\n",
    "preprocessor = ColumnTransformer(transformers = [('num',num_transformer, num_attribs),\n",
    "                                                 ('cat',cat_transformer,cat_attribs)])\n",
    "\n",
    "param_grid = [{'n_estimators':[1,10,100],'max_features': [2, 4, 6, 8]},\n",
    "              {'bootstrap': [False], 'n_estimators': [3, 10], 'max_features': [2, 3, 4]}]\n",
    "\n",
    "forest_clf = RandomForestClassifier()\n",
    "\n",
    "# grid_search = GridSearchCV(forest_clf, param_grid, cv=5,\n",
    "# scoring='neg_mean_squared_error',\n",
    "# return_train_score=True)\n",
    "\n",
    "clf = Pipeline(steps = [('preprocessor',preprocessor),('grid_search',GridSearchCV(forest_clf, param_grid, cv=5,\n",
    "scoring='roc_auc',return_train_score=True))])\n",
    "\n",
    "split = StratifiedShuffleSplit(n_splits = 1, test_size = 0.2, random_state = 42)\n",
    "\n",
    "for train_index, test_index in split.split(X,y):\n",
    "    #print(train_index,(test_index))\n",
    "    X_train, X_test = X.iloc[train_index], X.iloc[test_index]\n",
    "    y_train, y_test = y.iloc[train_index], y.iloc[test_index]\n",
    "# X_train,X_test,y_train,y_test = train_test_split(X,y,test_size = 0.2)\n",
    "\n",
    "# print(X_train.head(),\"***Xtrain***\",'\\n*************************************\\n',y_train.head(),'***Y_train***')\n",
    "# print(X_test.head(),'X_test','\\n*******************\\n',y_test.head(),'y_test')\n",
    "clf.fit(X_train,y_train)\n",
    "\n",
    "y_pred = clf.predict(X_test)\n",
    "#print(y_pred)\n",
    "\n",
    "from sklearn.metrics import confusion_matrix\n",
    "\n",
    "print(confusion_matrix(y_test, y_pred))\n",
    "\n",
    "print(\"model score: %.3f\" % clf.score(X_test, y_test))\n"
   ]
  },
  {
   "cell_type": "markdown",
   "metadata": {},
   "source": [
    "## Explanation:<a id=\"5\"></a> <br> \n",
    "* I created 'num_attribs' and 'cat_attribs' and I created Pipeline for data preprocessing for both Numeric and Categorical data.\n",
    "* Then I combined the two using Column transfer and created a combined variable 'preprocessor' which can be used directly in a pipeline later on.\n",
    "* Created a 'param_grid' which is the combined list of parameters to be tested for grid search.\n",
    "* Using Forest Classifier for prediction.\n",
    "* Performing grid search cross validation with Forest Classifier with scoring as 'roc_auc' using pipeline and storing it as clf.\n",
    "* Applying stratified shuffle split which will create a test set that is a complete representative of the data for example the gender ratio will remain constant for the test set as well.\n",
    "* Finally fitting the data set on the classifier\n",
    "* Creating y_pred to create a list of predicted variable\n",
    "* Using confusion matrix to find the false negetives and false positives.\n",
    "* Finally getting the roc_auc score."
   ]
  },
  {
   "cell_type": "markdown",
   "metadata": {},
   "source": [
    "# Conclusion<a id=\"6\"></a> <br>\n",
    "\n",
    "This is one of my initial attempts on EDA and prediction.\n",
    "Do let me know if there are any feedback/comments/suggestions :) "
   ]
  }
 ],
 "metadata": {
  "kernelspec": {
   "display_name": "Python 3",
   "language": "python",
   "name": "python3"
  },
  "language_info": {
   "codemirror_mode": {
    "name": "ipython",
    "version": 3
   },
   "file_extension": ".py",
   "mimetype": "text/x-python",
   "name": "python",
   "nbconvert_exporter": "python",
   "pygments_lexer": "ipython3",
   "version": "3.7.4"
  }
 },
 "nbformat": 4,
 "nbformat_minor": 4
}
